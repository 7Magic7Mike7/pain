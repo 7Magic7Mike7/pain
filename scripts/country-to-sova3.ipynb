{
 "cells": [
  {
   "cell_type": "code",
   "execution_count": 1,
   "id": "63cf50fc",
   "metadata": {},
   "outputs": [],
   "source": [
    "import os\n",
    "import pandas as pd\n",
    "import geopandas as gpd\n",
    "\n",
    "from typing import Tuple, List, Dict, Optional, Set"
   ]
  },
  {
   "cell_type": "code",
   "execution_count": 2,
   "id": "48a42c22",
   "metadata": {},
   "outputs": [],
   "source": [
    "BASE_PATH = os.path.join(\"D:\\\\\", \"Workspaces\", \"vscode-workspace\", \"ai_x_medicine\", \"data\")\n",
    "RES_GDP_PATH = os.path.join(BASE_PATH, \"out\", \"res-gdp.csv\")\n",
    "RES_GINI_PATH = os.path.join(BASE_PATH, \"out\", \"res-gini.csv\")\n",
    "RES_PAIN_PATH = os.path.join(BASE_PATH, \"out\", \"socioeconomic-pain.csv\")\n",
    "RES_GINI_SOV_PATH = os.path.join(BASE_PATH, \"out\", \"res-gini-sov.csv\")\n",
    "RES_PAIN_SOV_PATH = os.path.join(BASE_PATH, \"out\", \"socioeconomic-pain-sov2.csv\")\n",
    "# Projections map (easy names -> EPSG/PROJ strings)\n",
    "PROJECTIONS = {\n",
    "    \"PlateCarree\": \"EPSG:4326\",\n",
    "    \"Mercator\": \"EPSG:3395\",\n",
    "    \"Robinson\": \"+proj=robin +lon_0=0 +x_0=0 +y_0=0 +datum=WGS84 +units=m +no_defs\",\n",
    "    \"Mollweide\": \"+proj=moll +lon_0=0 +x_0=0 +y_0=0 +datum=WGS84 +units=m +no_defs\",\n",
    "    \"EqualEarth\": \"+proj=eqearth +lon_0=0 +datum=WGS84 +units=m +no_defs\",\n",
    "    \"WinkelTripel\": \"+proj=wintri +lon_0=0 +datum=WGS84 +units=m +no_defs\",\n",
    "}\n",
    "CODE_COLUMN = \"SOV_A3\""
   ]
  },
  {
   "cell_type": "code",
   "execution_count": 3,
   "id": "7f30510f",
   "metadata": {},
   "outputs": [],
   "source": [
    "def load_world(verbose: bool = False):\n",
    "    # Use Natural Earth low-res that ships with GeoPandas\n",
    "    #world_path = gpd.datasets.get_path(\"naturalearth_lowres\")\n",
    "    world = gpd.read_file(os.path.join(BASE_PATH, \"countries_map.zip\"))#\"https://naciscdn.org/naturalearth/110m/cultural/ne_110m_admin_0_countries.zip\")\n",
    "    #world = gpd.read_file(\"https://naciscdn.org/naturalearth/110m/physical/ne_110m_land.zip\") #geodatasets.get_path(\"naturalearth_lowres\"))\n",
    "    if verbose: \n",
    "        print(world)\n",
    "    # Fix some known ISO code quirks\n",
    "    # Natural Earth uses \"France\" overseas territories as single polygon, ISO A3 is in 'iso_a3'\n",
    "    world.loc[world[\"SOVEREIGNT\"] == \"France\", \"sov_a3\"] = \"FRA\"\n",
    "    world.loc[world[\"SOVEREIGNT\"] == \"Norway\", \"sov_a3\"] = \"NOR\"\n",
    "    world.loc[world[\"SOVEREIGNT\"] == \"Somaliland\", \"sov_a3\"] = \"SOL\"  # non-ISO, avoid collision\n",
    "    return world"
   ]
  },
  {
   "cell_type": "code",
   "execution_count": 4,
   "id": "b3e7290a",
   "metadata": {},
   "outputs": [],
   "source": [
    "def compute_sova3_subset(dataframe: pd.DataFrame, df_country_label: str = \"Country\", df_value_label: str = \"value\") -> Tuple[pd.DataFrame, Set]:\n",
    "    # Find intersection of country/location names\n",
    "    new_world = load_world()\n",
    "    common_data = set(new_world[\"SOVEREIGNT\"]).intersection(set(dataframe[df_country_label]))\n",
    "    diff_data = set(new_world[\"SOVEREIGNT\"]).difference(set(dataframe[df_country_label]))\n",
    "\n",
    "    # Subset both DataFrames to only those in the intersection\n",
    "    dataframe_sub = dataframe[dataframe[\"Country\"].isin(common_data)].copy()\n",
    "\n",
    "    result_data = []\n",
    "    for _, row in dataframe_sub.iterrows():\n",
    "        country = row[df_country_label]\n",
    "        value = row[df_value_label]\n",
    "        nw_row = new_world.loc[new_world[\"SOVEREIGNT\"] == country]  # get the row corresponding to country\n",
    "        sova3 = nw_row.iloc[0][\"SOV_A3\"]\n",
    "        result_data.append({\n",
    "            \"sov_a3\": sova3,\n",
    "            \"Country\": country,\n",
    "            \"value\": value\n",
    "        })\n",
    "    #dataframe_sub.merge(new_world[[\"SOVEREIGNT\", \"SOV_A3\"]], how=\"left\")\n",
    "\n",
    "    return pd.DataFrame(result_data), diff_data"
   ]
  },
  {
   "cell_type": "code",
   "execution_count": 65,
   "id": "8b1d73d1",
   "metadata": {},
   "outputs": [],
   "source": [
    "# Adapt socio-economic pain data\n",
    "df_pain = pd.read_csv(RES_PAIN_PATH, index_col=False)\n",
    "df_pain_sub, _ = compute_sova3_subset(df_pain, \"Country\", \"pain\")\n",
    "df_pain_sub.to_csv(RES_PAIN_SOV_PATH, index=False)"
   ]
  },
  {
   "cell_type": "code",
   "execution_count": 5,
   "id": "0f8806b2",
   "metadata": {},
   "outputs": [
    {
     "name": "stdout",
     "output_type": "stream",
     "text": [
      "The susbet includes 142 out of 170.\n",
      "The following countries are missing:\n",
      "- Cambodia\n",
      "- Eritrea\n",
      "- Somaliland\n",
      "- United Republic of Tanzania\n",
      "- eSwatini\n",
      "- Afghanistan\n",
      "- Cuba\n",
      "- Equatorial Guinea\n",
      "- Saudi Arabia\n",
      "- North Korea\n",
      "- Oman\n",
      "- Azerbaijan\n",
      "- Northern Cyprus\n",
      "- East Timor\n",
      "- Democratic Republic of the Congo\n",
      "- Czechia\n",
      "- The Bahamas\n",
      "- Antarctica\n",
      "- United States of America\n",
      "- Kosovo\n",
      "- Republic of Serbia\n",
      "- New Zealand\n",
      "- Western Sahara\n",
      "- Lebanon\n",
      "- Libya\n",
      "- Brunei\n",
      "- Belize\n",
      "- Kuwait\n",
      "- Nepal\n"
     ]
    }
   ],
   "source": [
    "df_gini = pd.read_csv(RES_GINI_PATH, index_col=False)\n",
    "df_gini_sub, missing_countries = compute_sova3_subset(df_gini, \"Country\", \"gini\")\n",
    "df_gini_sub.to_csv(RES_GINI_SOV_PATH, index=False)\n",
    "\n",
    "print(f\"The susbet includes {len(df_gini_sub['Country'])} out of {len(df_gini['Country'])}.\")\n",
    "print(\"The following countries are missing:\")\n",
    "for country in missing_countries:\n",
    "    print(f\"- {country}\")"
   ]
  },
  {
   "cell_type": "code",
   "execution_count": null,
   "id": "32d6ac68",
   "metadata": {},
   "outputs": [
    {
     "name": "stdout",
     "output_type": "stream",
     "text": [
      "The susbet includes 142 out of 262.\n",
      "The following countries are missing:\n",
      "- Northern Cyprus\n",
      "- Oman\n",
      "- Cuba\n",
      "- Nepal\n",
      "- Kuwait\n",
      "- North Korea\n",
      "- Libya\n",
      "- Equatorial Guinea\n",
      "- The Bahamas\n",
      "- Western Sahara\n",
      "- Lebanon\n",
      "- United Republic of Tanzania\n",
      "- Cambodia\n",
      "- Republic of Serbia\n",
      "- United States of America\n",
      "- Somaliland\n",
      "- Kosovo\n",
      "- Azerbaijan\n",
      "- Belize\n",
      "- Saudi Arabia\n",
      "- Czechia\n",
      "- Eritrea\n",
      "- East Timor\n",
      "- Antarctica\n",
      "- eSwatini\n",
      "- New Zealand\n",
      "- Afghanistan\n",
      "- Brunei\n",
      "- Democratic Republic of the Congo\n"
     ]
    }
   ],
   "source": [
    "df_gdp = pd.read_csv(RES_GDP_PATH)\n",
    "df_gdp_sub, missing_countries = compute_sova3_subset(df_gini, \"Country\")\n",
    "\n",
    "print(f\"The susbet includes {len(df_gdp_sub['Country'])} out of {len(df_gdp['Country'])}.\")\n",
    "print(\"The following countries are missing:\")\n",
    "for country in missing_countries:\n",
    "    print(f\"- {country}\")"
   ]
  }
 ],
 "metadata": {
  "kernelspec": {
   "display_name": "AIxMedicine",
   "language": "python",
   "name": "python3"
  },
  "language_info": {
   "codemirror_mode": {
    "name": "ipython",
    "version": 3
   },
   "file_extension": ".py",
   "mimetype": "text/x-python",
   "name": "python",
   "nbconvert_exporter": "python",
   "pygments_lexer": "ipython3",
   "version": "3.10.18"
  }
 },
 "nbformat": 4,
 "nbformat_minor": 5
}
